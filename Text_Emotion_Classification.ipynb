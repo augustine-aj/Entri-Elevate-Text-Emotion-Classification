{
 "cells": [
  {
   "cell_type": "markdown",
   "id": "da882251-f786-4d72-a995-9da3fc32def1",
   "metadata": {},
   "source": [
    "# Emotion Classification in Text\n",
    "\n",
    "## Objective\n",
    "\n",
    "The goal of this project is to develop machine learning models to classify emotions in text samples. We will use the provided dataset to preprocess the text, extract features, train models, and evaluate their performance.\n",
    "\n",
    "## 1. Loading and Preprocessing\n",
    "\n",
    "In this section, we will load the dataset and perform preprocessing steps to prepare the data for machine learning. This includes:\n",
    "\n",
    "- **Loading the dataset:** Importing the data into a DataFrame.\n",
    "- **Text cleaning:** Removing punctuation and numbers from the text.\n",
    "- **Tokenization:** Splitting the text into individual words.\n",
    "- **Stopwords removal:** Eliminating common words that do not contribute to emotion classification."
   ]
  },
  {
   "cell_type": "code",
   "execution_count": 1,
   "id": "fbbba6ba-3204-4ecd-be67-e3e309130db3",
   "metadata": {},
   "outputs": [
    {
     "name": "stderr",
     "output_type": "stream",
     "text": [
      "[nltk_data] Downloading package stopwords to\n",
      "[nltk_data]     C:\\Users\\augus\\AppData\\Roaming\\nltk_data...\n",
      "[nltk_data]   Package stopwords is already up-to-date!\n",
      "[nltk_data] Downloading package punkt to\n",
      "[nltk_data]     C:\\Users\\augus\\AppData\\Roaming\\nltk_data...\n",
      "[nltk_data]   Package punkt is already up-to-date!\n"
     ]
    },
    {
     "data": {
      "text/html": [
       "<div>\n",
       "<style scoped>\n",
       "    .dataframe tbody tr th:only-of-type {\n",
       "        vertical-align: middle;\n",
       "    }\n",
       "\n",
       "    .dataframe tbody tr th {\n",
       "        vertical-align: top;\n",
       "    }\n",
       "\n",
       "    .dataframe thead th {\n",
       "        text-align: right;\n",
       "    }\n",
       "</style>\n",
       "<table border=\"1\" class=\"dataframe\">\n",
       "  <thead>\n",
       "    <tr style=\"text-align: right;\">\n",
       "      <th></th>\n",
       "      <th>Comment</th>\n",
       "      <th>Emotion</th>\n",
       "    </tr>\n",
       "  </thead>\n",
       "  <tbody>\n",
       "    <tr>\n",
       "      <th>0</th>\n",
       "      <td>i seriously hate one subject to death but now ...</td>\n",
       "      <td>fear</td>\n",
       "    </tr>\n",
       "    <tr>\n",
       "      <th>1</th>\n",
       "      <td>im so full of life i feel appalled</td>\n",
       "      <td>anger</td>\n",
       "    </tr>\n",
       "    <tr>\n",
       "      <th>2</th>\n",
       "      <td>i sit here to write i start to dig out my feel...</td>\n",
       "      <td>fear</td>\n",
       "    </tr>\n",
       "    <tr>\n",
       "      <th>3</th>\n",
       "      <td>ive been really angry with r and i feel like a...</td>\n",
       "      <td>joy</td>\n",
       "    </tr>\n",
       "    <tr>\n",
       "      <th>4</th>\n",
       "      <td>i feel suspicious if there is no one outside l...</td>\n",
       "      <td>fear</td>\n",
       "    </tr>\n",
       "  </tbody>\n",
       "</table>\n",
       "</div>"
      ],
      "text/plain": [
       "                                             Comment Emotion\n",
       "0  i seriously hate one subject to death but now ...    fear\n",
       "1                 im so full of life i feel appalled   anger\n",
       "2  i sit here to write i start to dig out my feel...    fear\n",
       "3  ive been really angry with r and i feel like a...     joy\n",
       "4  i feel suspicious if there is no one outside l...    fear"
      ]
     },
     "execution_count": 1,
     "metadata": {},
     "output_type": "execute_result"
    }
   ],
   "source": [
    "import pandas as pd\n",
    "import numpy as np\n",
    "import re\n",
    "import nltk\n",
    "from nltk.corpus import stopwords\n",
    "from nltk.tokenize import word_tokenize\n",
    "\n",
    "nltk.download('stopwords')\n",
    "nltk.download('punkt')"
   ]
  },
  {
   "cell_type": "code",
   "execution_count": null,
   "id": "ddd79b7e-9c7c-4652-a1ac-440d38193325",
   "metadata": {},
   "outputs": [],
   "source": [
    "file = \"C:/Users/augus/Downloads/nlp_dataset.csv\"\n",
    "df = pd.read_csv(file)\n",
    "\n",
    "df.head()"
   ]
  },
  {
   "cell_type": "markdown",
   "id": "5b818c03-1a3f-45d7-bd39-b2b7a17aee65",
   "metadata": {},
   "source": [
    "### Preprocessing\n",
    "\n",
    "We will define a preprocessing function to clean the text. This involves removing punctuation, numbers, converting to lowercase, tokenizing, and removing stopwords."
   ]
  },
  {
   "cell_type": "code",
   "execution_count": 3,
   "id": "90679738-edad-4a18-94ee-81e7002d85d6",
   "metadata": {},
   "outputs": [
    {
     "data": {
      "text/html": [
       "<div>\n",
       "<style scoped>\n",
       "    .dataframe tbody tr th:only-of-type {\n",
       "        vertical-align: middle;\n",
       "    }\n",
       "\n",
       "    .dataframe tbody tr th {\n",
       "        vertical-align: top;\n",
       "    }\n",
       "\n",
       "    .dataframe thead th {\n",
       "        text-align: right;\n",
       "    }\n",
       "</style>\n",
       "<table border=\"1\" class=\"dataframe\">\n",
       "  <thead>\n",
       "    <tr style=\"text-align: right;\">\n",
       "      <th></th>\n",
       "      <th>cleaned_text</th>\n",
       "      <th>Emotion</th>\n",
       "    </tr>\n",
       "  </thead>\n",
       "  <tbody>\n",
       "    <tr>\n",
       "      <th>0</th>\n",
       "      <td>seriously hate one subject death feel reluctan...</td>\n",
       "      <td>fear</td>\n",
       "    </tr>\n",
       "    <tr>\n",
       "      <th>1</th>\n",
       "      <td>im full life feel appalled</td>\n",
       "      <td>anger</td>\n",
       "    </tr>\n",
       "    <tr>\n",
       "      <th>2</th>\n",
       "      <td>sit write start dig feelings think afraid acce...</td>\n",
       "      <td>fear</td>\n",
       "    </tr>\n",
       "    <tr>\n",
       "      <th>3</th>\n",
       "      <td>ive really angry r feel like idiot trusting fi...</td>\n",
       "      <td>joy</td>\n",
       "    </tr>\n",
       "    <tr>\n",
       "      <th>4</th>\n",
       "      <td>feel suspicious one outside like rapture happe...</td>\n",
       "      <td>fear</td>\n",
       "    </tr>\n",
       "  </tbody>\n",
       "</table>\n",
       "</div>"
      ],
      "text/plain": [
       "                                        cleaned_text Emotion\n",
       "0  seriously hate one subject death feel reluctan...    fear\n",
       "1                         im full life feel appalled   anger\n",
       "2  sit write start dig feelings think afraid acce...    fear\n",
       "3  ive really angry r feel like idiot trusting fi...     joy\n",
       "4  feel suspicious one outside like rapture happe...    fear"
      ]
     },
     "execution_count": 3,
     "metadata": {},
     "output_type": "execute_result"
    }
   ],
   "source": [
    "def preprocess_text(text):\n",
    "    text = re.sub(r'[^\\w\\s]', '', text)  \n",
    "    text = re.sub(r'\\d+', '', text)      \n",
    "    text = text.lower()                  \n",
    "    tokens = word_tokenize(text)         \n",
    "    stop_words = set(stopwords.words('english'))\n",
    "    tokens = [word for word in tokens if word not in stop_words]  # Remove stopwords\n",
    "    return ' '.join(tokens)\n",
    "\n",
    "df['cleaned_text'] = df['Comment'].apply(preprocess_text)\n",
    "\n",
    "df[['cleaned_text', 'Emotion']].head()"
   ]
  },
  {
   "cell_type": "markdown",
   "id": "e9b709a4-8386-4d03-9b2e-b7e284c47d83",
   "metadata": {},
   "source": [
    "## 2. Feature Extraction\n",
    "\n",
    "In this step, we will convert the cleaned text data into numerical features that can be used by machine learning models. We will use the `TfidfVectorizer` to transform the text data into a TF-IDF matrix.\n",
    "\n",
    "- **TF-IDF (Term Frequency-Inverse Document Frequency):** This method reflects the importance of words in the text relative to their occurrence across all documents."
   ]
  },
  {
   "cell_type": "code",
   "execution_count": 5,
   "id": "63957391-3a0f-4a24-9d11-5f8aa1f93a98",
   "metadata": {},
   "outputs": [
    {
     "data": {
      "text/plain": [
       "((4155, 8815), (1782, 8815))"
      ]
     },
     "execution_count": 5,
     "metadata": {},
     "output_type": "execute_result"
    }
   ],
   "source": [
    "from sklearn.feature_extraction.text import TfidfVectorizer\n",
    "\n",
    "vectorizer = TfidfVectorizer()\n",
    "X = vectorizer.fit_transform(df['cleaned_text'])\n",
    "y = df['Emotion']  \n",
    "\n",
    "from sklearn.model_selection import train_test_split\n",
    "X_train, X_test, y_train, y_test = train_test_split(X, y, test_size=0.3, random_state=42)\n",
    "\n",
    "X_train.shape, X_test.shape"
   ]
  },
  {
   "cell_type": "markdown",
   "id": "3f128018-5ec6-48b1-baa4-6e19579ccd34",
   "metadata": {},
   "source": [
    "## 3. Model Development\n",
    "\n",
    "We will train two machine learning models on the preprocessed data:\n",
    "\n",
    "- **Naive Bayes:** A probabilistic classifier that works well with text data.\n",
    "- **Support Vector Machine (SVM):** A powerful model suitable for high-dimensional spaces."
   ]
  },
  {
   "cell_type": "code",
   "execution_count": 6,
   "id": "2441ba0c-6b3f-4e54-83da-d51b321daf1e",
   "metadata": {},
   "outputs": [],
   "source": [
    "from sklearn.naive_bayes import MultinomialNB\n",
    "from sklearn.svm import SVC\n",
    "\n",
    "nb_model = MultinomialNB()\n",
    "nb_model.fit(X_train, y_train)\n",
    "nb_predictions = nb_model.predict(X_test)\n",
    "\n",
    "svm_model = SVC()\n",
    "svm_model.fit(X_train, y_train)\n",
    "svm_predictions = svm_model.predict(X_test)"
   ]
  },
  {
   "cell_type": "markdown",
   "id": "109ac9bb-2e9f-410a-b21d-b652af7a4b42",
   "metadata": {},
   "source": [
    "## 4. Model Comparison\n",
    "\n",
    "In this section, we will evaluate and compare the performance of the Naive Bayes and SVM models using accuracy and F1-score. These metrics will help us understand how well each model performs in classifying emotions.\n",
    "\n",
    "- **Accuracy:** The proportion of correctly classified instances.\n",
    "- **F1-Score:** A weighted average of precision and recall, providing a balance between them."
   ]
  },
  {
   "cell_type": "code",
   "execution_count": 7,
   "id": "86b38678-4fe0-493f-9ff0-f46109129db1",
   "metadata": {},
   "outputs": [
    {
     "name": "stdout",
     "output_type": "stream",
     "text": [
      "Naive Bayes Accuracy: 0.90\n",
      "Naive Bayes F1-Score: 0.90\n",
      "SVM Accuracy: 0.92\n",
      "SVM F1-Score: 0.92\n"
     ]
    }
   ],
   "source": [
    "from sklearn.metrics import accuracy_score, f1_score\n",
    "\n",
    "# Evaluate Naive Bayes\n",
    "nb_accuracy = accuracy_score(y_test, nb_predictions)\n",
    "nb_f1 = f1_score(y_test, nb_predictions, average='weighted')\n",
    "\n",
    "# Evaluate SVM\n",
    "svm_accuracy = accuracy_score(y_test, svm_predictions)\n",
    "svm_f1 = f1_score(y_test, svm_predictions, average='weighted')\n",
    "\n",
    "# Print results\n",
    "print(f'Naive Bayes Accuracy: {nb_accuracy:.2f}')\n",
    "print(f'Naive Bayes F1-Score: {nb_f1:.2f}')\n",
    "print(f'SVM Accuracy: {svm_accuracy:.2f}')\n",
    "print(f'SVM F1-Score: {svm_f1:.2f}')"
   ]
  },
  {
   "cell_type": "code",
   "execution_count": 8,
   "id": "363ce9c8-c413-473b-a61d-6a3f91756944",
   "metadata": {},
   "outputs": [
    {
     "data": {
      "image/png": "[encoded data removed]",
      "text/plain": [
       "<Figure size 640x480 with 1 Axes>"
      ]
     },
     "metadata": {},
     "output_type": "display_data"
    }
   ],
   "source": [
    "# Visualization\n",
    "import matplotlib.pyplot as plt\n",
    "import seaborn as sns\n",
    "\n",
    "metrics = pd.DataFrame({\n",
    "    'Model': ['Naive Bayes', 'SVM'],\n",
    "    'Accuracy': [nb_accuracy, svm_accuracy],\n",
    "    'F1-Score': [nb_f1, svm_f1]\n",
    "})\n",
    "\n",
    "metrics.plot(x='Model', kind='bar', stacked=False)\n",
    "plt.title('Model Performance Comparison')\n",
    "plt.ylabel('Score')\n",
    "plt.show()\n"
   ]
  },
  {
   "cell_type": "markdown",
   "id": "ba1920ce-9a40-49fb-a4bf-82e8f2017b45",
   "metadata": {},
   "source": [
    "## Predicting New Sentences\n",
    "\n",
    "In this section, we will use the trained models to predict emotions for new text samples. We will preprocess the new text, transform it using the `TfidfVectorizer`, and then use the Naive Bayes and SVM models to make predictions.\n",
    "\n",
    "### New Sentence Prediction\n",
    "\n",
    "We will define a function that takes a new sentence, preprocesses it, extracts features, and then predicts the emotion using both models.\n"
   ]
  },
  {
   "cell_type": "code",
   "execution_count": 9,
   "id": "2a811300-5040-4dd9-abf2-29ba10a1345b",
   "metadata": {},
   "outputs": [
    {
     "name": "stdout",
     "output_type": "stream",
     "text": [
      "Sentence: \"I am feeling great today!\"\n",
      "Naive Bayes Prediction: joy\n",
      "SVM Prediction: joy\n",
      "--------------------------------------------------\n",
      "Sentence: \"I am very sad about the news.\"\n",
      "Naive Bayes Prediction: fear\n",
      "SVM Prediction: anger\n",
      "--------------------------------------------------\n",
      "Sentence: \"The weather is okay, neither too good nor too bad.\"\n",
      "Naive Bayes Prediction: anger\n",
      "SVM Prediction: joy\n",
      "--------------------------------------------------\n",
      "Sentence: \"I am excited for the upcoming event!\"\n",
      "Naive Bayes Prediction: joy\n",
      "SVM Prediction: joy\n",
      "--------------------------------------------------\n"
     ]
    }
   ],
   "source": [
    "def predict_emotion(sentence):\n",
    "    # Preprocess the new sentence\n",
    "    cleaned_sentence = preprocess_text(sentence)\n",
    "    \n",
    "    # Transform the new sentence using the same vectorizer\n",
    "    sentence_vector = vectorizer.transform([cleaned_sentence])\n",
    "    \n",
    "    # Predict using Naive Bayes model\n",
    "    nb_prediction = nb_model.predict(sentence_vector)[0]\n",
    "    \n",
    "    # Predict using SVM model\n",
    "    svm_prediction = svm_model.predict(sentence_vector)[0]\n",
    "    \n",
    "    return nb_prediction, svm_prediction\n",
    "\n",
    "# Test with new sentences\n",
    "new_sentences = [\n",
    "    \"I am feeling great today!\",\n",
    "    \"I am very sad about the news.\",\n",
    "    \"The weather is okay, neither too good nor too bad.\",\n",
    "    \"I am excited for the upcoming event!\",\n",
    "]\n",
    "\n",
    "# Get predictions\n",
    "for sentence in new_sentences:\n",
    "    nb_pred, svm_pred = predict_emotion(sentence)\n",
    "    print(f'Sentence: \"{sentence}\"')\n",
    "    print(f'Naive Bayes Prediction: {nb_pred}')\n",
    "    print(f'SVM Prediction: {svm_pred}')\n",
    "    print('-' * 50)\n"
   ]
  },
  {
   "cell_type": "markdown",
   "id": "86128b9e-258d-464f-85b3-1124694c7f05",
   "metadata": {},
   "source": [
    "### Explanation of Predicting new sentenses\n",
    "\n",
    "1. **Preprocessing:** We apply the same preprocessing steps to the new sentence as we did to the training data.\n",
    "2. **Feature Extraction:** We use the `TfidfVectorizer` to transform the preprocessed text into numerical features.\n",
    "3. **Prediction:** Both the Naive Bayes and SVM models are used to predict the emotion of the new sentence.\n",
    "\n",
    "This section allows you to evaluate how well the trained models can classify new text samples and provides insights into their practical applicability."
   ]
  },
  {
   "cell_type": "markdown",
   "id": "368e424b-2ea5-49f6-a829-081910144186",
   "metadata": {},
   "source": [
    "## Conclusion\n",
    "\n",
    "In this project, we applied machine learning models to classify emotions in text data. We explored various preprocessing techniques, extracted features using TF-IDF, and compared the performance of Naive Bayes and SVM models. Each model has its strengths, and the results provide insights into their effectiveness for emotion classification.\n",
    "\n",
    "Feel free to modify or extend the notebook as needed for further analysis or improvements.\n"
   ]
  },
  {
   "cell_type": "code",
   "execution_count": null,
   "id": "d628031e-4572-46de-9146-8b7e77f0cbc5",
   "metadata": {},
   "outputs": [],
   "source": []
  }
 ],
 "metadata": {
  "kernelspec": {
   "display_name": "Python 3 (ipykernel)",
   "language": "python",
   "name": "python3"
  },
  "language_info": {
   "codemirror_mode": {
    "name": "ipython",
    "version": 3
   },
   "file_extension": ".py",
   "mimetype": "text/x-python",
   "name": "python",
   "nbconvert_exporter": "python",
   "pygments_lexer": "ipython3",
   "version": "3.11.5"
  }
 },
 "nbformat": 4,
 "nbformat_minor": 5
}
